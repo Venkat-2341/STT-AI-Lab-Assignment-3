{
 "cells": [
  {
   "cell_type": "code",
   "execution_count": 27,
   "metadata": {},
   "outputs": [],
   "source": [
    "import numpy as np\n",
    "import pandas as pd\n",
    "import json\n",
    "from sklearn.metrics import cohen_kappa_score"
   ]
  },
  {
   "cell_type": "code",
   "execution_count": 28,
   "metadata": {},
   "outputs": [],
   "source": [
    "df1 = pd.read_csv('NLP-annotations/NLP-annotations-Arjun.csv')\n",
    "df2 = pd.read_csv('NLP-annotations/NLP-annotations-Venkat.csv')"
   ]
  },
  {
   "cell_type": "code",
   "execution_count": 29,
   "metadata": {},
   "outputs": [
    {
     "data": {
      "text/html": [
       "<div>\n",
       "<style scoped>\n",
       "    .dataframe tbody tr th:only-of-type {\n",
       "        vertical-align: middle;\n",
       "    }\n",
       "\n",
       "    .dataframe tbody tr th {\n",
       "        vertical-align: top;\n",
       "    }\n",
       "\n",
       "    .dataframe thead th {\n",
       "        text-align: right;\n",
       "    }\n",
       "</style>\n",
       "<table border=\"1\" class=\"dataframe\">\n",
       "  <thead>\n",
       "    <tr style=\"text-align: right;\">\n",
       "      <th></th>\n",
       "      <th>annotation_id</th>\n",
       "      <th>annotator</th>\n",
       "      <th>created_at</th>\n",
       "      <th>id</th>\n",
       "      <th>lead_time</th>\n",
       "      <th>pos</th>\n",
       "      <th>text</th>\n",
       "      <th>updated_at</th>\n",
       "    </tr>\n",
       "  </thead>\n",
       "  <tbody>\n",
       "    <tr>\n",
       "      <th>0</th>\n",
       "      <td>71</td>\n",
       "      <td>1</td>\n",
       "      <td>2025-01-24T14:11:32.689006Z</td>\n",
       "      <td>41</td>\n",
       "      <td>153.808</td>\n",
       "      <td>[{\"start\":0,\"end\":9,\"text\":\"राजस्थान \",\"labels...</td>\n",
       "      <td>राजस्थान के CM बनने के सवाल पर क्या बोले केंद्...</td>\n",
       "      <td>2025-01-24T14:11:32.689006Z</td>\n",
       "    </tr>\n",
       "    <tr>\n",
       "      <th>1</th>\n",
       "      <td>72</td>\n",
       "      <td>1</td>\n",
       "      <td>2025-01-24T14:14:20.335259Z</td>\n",
       "      <td>42</td>\n",
       "      <td>161.749</td>\n",
       "      <td>[{\"start\":0,\"end\":6,\"text\":\"World \",\"labels\":[...</td>\n",
       "      <td>World Cup Final 2023: क्या रोहित-विराट अब वर्ल...</td>\n",
       "      <td>2025-01-24T14:14:20.335259Z</td>\n",
       "    </tr>\n",
       "    <tr>\n",
       "      <th>2</th>\n",
       "      <td>73</td>\n",
       "      <td>1</td>\n",
       "      <td>2025-01-24T14:15:39.424390Z</td>\n",
       "      <td>43</td>\n",
       "      <td>77.107</td>\n",
       "      <td>[{\"start\":11,\"end\":17,\"text\":\"Tunnel\",\"labels\"...</td>\n",
       "      <td>Uttarkashi Tunnel Rescue: उत्तरकाशी टनल में फं...</td>\n",
       "      <td>2025-01-24T14:15:39.424390Z</td>\n",
       "    </tr>\n",
       "  </tbody>\n",
       "</table>\n",
       "</div>"
      ],
      "text/plain": [
       "   annotation_id  annotator                   created_at  id  lead_time  \\\n",
       "0             71          1  2025-01-24T14:11:32.689006Z  41    153.808   \n",
       "1             72          1  2025-01-24T14:14:20.335259Z  42    161.749   \n",
       "2             73          1  2025-01-24T14:15:39.424390Z  43     77.107   \n",
       "\n",
       "                                                 pos  \\\n",
       "0  [{\"start\":0,\"end\":9,\"text\":\"राजस्थान \",\"labels...   \n",
       "1  [{\"start\":0,\"end\":6,\"text\":\"World \",\"labels\":[...   \n",
       "2  [{\"start\":11,\"end\":17,\"text\":\"Tunnel\",\"labels\"...   \n",
       "\n",
       "                                                text  \\\n",
       "0  राजस्थान के CM बनने के सवाल पर क्या बोले केंद्...   \n",
       "1  World Cup Final 2023: क्या रोहित-विराट अब वर्ल...   \n",
       "2  Uttarkashi Tunnel Rescue: उत्तरकाशी टनल में फं...   \n",
       "\n",
       "                    updated_at  \n",
       "0  2025-01-24T14:11:32.689006Z  \n",
       "1  2025-01-24T14:14:20.335259Z  \n",
       "2  2025-01-24T14:15:39.424390Z  "
      ]
     },
     "execution_count": 29,
     "metadata": {},
     "output_type": "execute_result"
    }
   ],
   "source": [
    "df1.head(3)"
   ]
  },
  {
   "cell_type": "code",
   "execution_count": 30,
   "metadata": {},
   "outputs": [
    {
     "data": {
      "text/html": [
       "<div>\n",
       "<style scoped>\n",
       "    .dataframe tbody tr th:only-of-type {\n",
       "        vertical-align: middle;\n",
       "    }\n",
       "\n",
       "    .dataframe tbody tr th {\n",
       "        vertical-align: top;\n",
       "    }\n",
       "\n",
       "    .dataframe thead th {\n",
       "        text-align: right;\n",
       "    }\n",
       "</style>\n",
       "<table border=\"1\" class=\"dataframe\">\n",
       "  <thead>\n",
       "    <tr style=\"text-align: right;\">\n",
       "      <th></th>\n",
       "      <th>annotation_id</th>\n",
       "      <th>annotator</th>\n",
       "      <th>created_at</th>\n",
       "      <th>id</th>\n",
       "      <th>label</th>\n",
       "      <th>lead_time</th>\n",
       "      <th>text</th>\n",
       "      <th>updated_at</th>\n",
       "    </tr>\n",
       "  </thead>\n",
       "  <tbody>\n",
       "    <tr>\n",
       "      <th>0</th>\n",
       "      <td>22</td>\n",
       "      <td>1</td>\n",
       "      <td>2025-01-24T10:49:13.766051Z</td>\n",
       "      <td>14538</td>\n",
       "      <td>[{\"start\":0,\"end\":8,\"text\":\"राजस्थान\",\"labels\"...</td>\n",
       "      <td>395.756</td>\n",
       "      <td>राजस्थान के CM बनने के सवाल पर क्या बोले केंद्...</td>\n",
       "      <td>2025-01-24T10:49:13.766051Z</td>\n",
       "    </tr>\n",
       "    <tr>\n",
       "      <th>1</th>\n",
       "      <td>23</td>\n",
       "      <td>1</td>\n",
       "      <td>2025-01-24T10:55:00.198146Z</td>\n",
       "      <td>14539</td>\n",
       "      <td>[{\"start\":0,\"end\":5,\"text\":\"World\",\"labels\":[\"...</td>\n",
       "      <td>301.777</td>\n",
       "      <td>World Cup Final 2023: क्या रोहित-विराट अब वर्ल...</td>\n",
       "      <td>2025-01-24T10:55:00.198146Z</td>\n",
       "    </tr>\n",
       "    <tr>\n",
       "      <th>2</th>\n",
       "      <td>24</td>\n",
       "      <td>1</td>\n",
       "      <td>2025-01-24T10:57:42.074330Z</td>\n",
       "      <td>14540</td>\n",
       "      <td>[{\"start\":0,\"end\":11,\"text\":\"Uttarkashi \",\"lab...</td>\n",
       "      <td>150.674</td>\n",
       "      <td>Uttarkashi Tunnel Rescue: उत्तरकाशी टनल में फं...</td>\n",
       "      <td>2025-01-24T10:57:42.074330Z</td>\n",
       "    </tr>\n",
       "  </tbody>\n",
       "</table>\n",
       "</div>"
      ],
      "text/plain": [
       "   annotation_id  annotator                   created_at     id  \\\n",
       "0             22          1  2025-01-24T10:49:13.766051Z  14538   \n",
       "1             23          1  2025-01-24T10:55:00.198146Z  14539   \n",
       "2             24          1  2025-01-24T10:57:42.074330Z  14540   \n",
       "\n",
       "                                               label  lead_time  \\\n",
       "0  [{\"start\":0,\"end\":8,\"text\":\"राजस्थान\",\"labels\"...    395.756   \n",
       "1  [{\"start\":0,\"end\":5,\"text\":\"World\",\"labels\":[\"...    301.777   \n",
       "2  [{\"start\":0,\"end\":11,\"text\":\"Uttarkashi \",\"lab...    150.674   \n",
       "\n",
       "                                                text  \\\n",
       "0  राजस्थान के CM बनने के सवाल पर क्या बोले केंद्...   \n",
       "1  World Cup Final 2023: क्या रोहित-विराट अब वर्ल...   \n",
       "2  Uttarkashi Tunnel Rescue: उत्तरकाशी टनल में फं...   \n",
       "\n",
       "                    updated_at  \n",
       "0  2025-01-24T10:49:13.766051Z  \n",
       "1  2025-01-24T10:55:00.198146Z  \n",
       "2  2025-01-24T10:57:42.074330Z  "
      ]
     },
     "execution_count": 30,
     "metadata": {},
     "output_type": "execute_result"
    }
   ],
   "source": [
    "df2.head(3)"
   ]
  },
  {
   "cell_type": "code",
   "execution_count": 31,
   "metadata": {},
   "outputs": [],
   "source": [
    "df2.rename(columns={'label': 'pos'}, inplace=True)"
   ]
  },
  {
   "cell_type": "code",
   "execution_count": 32,
   "metadata": {},
   "outputs": [],
   "source": [
    "df1_pos = df1[['annotation_id', 'pos', 'text']]\n",
    "df2_pos = df2[['annotation_id', 'pos', 'text']]"
   ]
  },
  {
   "cell_type": "code",
   "execution_count": 22,
   "metadata": {},
   "outputs": [
    {
     "data": {
      "text/html": [
       "<div>\n",
       "<style scoped>\n",
       "    .dataframe tbody tr th:only-of-type {\n",
       "        vertical-align: middle;\n",
       "    }\n",
       "\n",
       "    .dataframe tbody tr th {\n",
       "        vertical-align: top;\n",
       "    }\n",
       "\n",
       "    .dataframe thead th {\n",
       "        text-align: right;\n",
       "    }\n",
       "</style>\n",
       "<table border=\"1\" class=\"dataframe\">\n",
       "  <thead>\n",
       "    <tr style=\"text-align: right;\">\n",
       "      <th></th>\n",
       "      <th>annotation_id</th>\n",
       "      <th>pos</th>\n",
       "      <th>text</th>\n",
       "    </tr>\n",
       "  </thead>\n",
       "  <tbody>\n",
       "    <tr>\n",
       "      <th>0</th>\n",
       "      <td>71</td>\n",
       "      <td>[{\"start\":0,\"end\":9,\"text\":\"राजस्थान \",\"labels...</td>\n",
       "      <td>राजस्थान के CM बनने के सवाल पर क्या बोले केंद्...</td>\n",
       "    </tr>\n",
       "    <tr>\n",
       "      <th>1</th>\n",
       "      <td>72</td>\n",
       "      <td>[{\"start\":0,\"end\":6,\"text\":\"World \",\"labels\":[...</td>\n",
       "      <td>World Cup Final 2023: क्या रोहित-विराट अब वर्ल...</td>\n",
       "    </tr>\n",
       "    <tr>\n",
       "      <th>2</th>\n",
       "      <td>73</td>\n",
       "      <td>[{\"start\":11,\"end\":17,\"text\":\"Tunnel\",\"labels\"...</td>\n",
       "      <td>Uttarkashi Tunnel Rescue: उत्तरकाशी टनल में फं...</td>\n",
       "    </tr>\n",
       "  </tbody>\n",
       "</table>\n",
       "</div>"
      ],
      "text/plain": [
       "   annotation_id                                                pos  \\\n",
       "0             71  [{\"start\":0,\"end\":9,\"text\":\"राजस्थान \",\"labels...   \n",
       "1             72  [{\"start\":0,\"end\":6,\"text\":\"World \",\"labels\":[...   \n",
       "2             73  [{\"start\":11,\"end\":17,\"text\":\"Tunnel\",\"labels\"...   \n",
       "\n",
       "                                                text  \n",
       "0  राजस्थान के CM बनने के सवाल पर क्या बोले केंद्...  \n",
       "1  World Cup Final 2023: क्या रोहित-विराट अब वर्ल...  \n",
       "2  Uttarkashi Tunnel Rescue: उत्तरकाशी टनल में फं...  "
      ]
     },
     "execution_count": 22,
     "metadata": {},
     "output_type": "execute_result"
    }
   ],
   "source": [
    "df1_pos.head(3)"
   ]
  },
  {
   "cell_type": "code",
   "execution_count": 33,
   "metadata": {},
   "outputs": [
    {
     "data": {
      "text/html": [
       "<div>\n",
       "<style scoped>\n",
       "    .dataframe tbody tr th:only-of-type {\n",
       "        vertical-align: middle;\n",
       "    }\n",
       "\n",
       "    .dataframe tbody tr th {\n",
       "        vertical-align: top;\n",
       "    }\n",
       "\n",
       "    .dataframe thead th {\n",
       "        text-align: right;\n",
       "    }\n",
       "</style>\n",
       "<table border=\"1\" class=\"dataframe\">\n",
       "  <thead>\n",
       "    <tr style=\"text-align: right;\">\n",
       "      <th></th>\n",
       "      <th>annotation_id</th>\n",
       "      <th>pos</th>\n",
       "      <th>text</th>\n",
       "    </tr>\n",
       "  </thead>\n",
       "  <tbody>\n",
       "    <tr>\n",
       "      <th>0</th>\n",
       "      <td>22</td>\n",
       "      <td>[{\"start\":0,\"end\":8,\"text\":\"राजस्थान\",\"labels\"...</td>\n",
       "      <td>राजस्थान के CM बनने के सवाल पर क्या बोले केंद्...</td>\n",
       "    </tr>\n",
       "    <tr>\n",
       "      <th>1</th>\n",
       "      <td>23</td>\n",
       "      <td>[{\"start\":0,\"end\":5,\"text\":\"World\",\"labels\":[\"...</td>\n",
       "      <td>World Cup Final 2023: क्या रोहित-विराट अब वर्ल...</td>\n",
       "    </tr>\n",
       "    <tr>\n",
       "      <th>2</th>\n",
       "      <td>24</td>\n",
       "      <td>[{\"start\":0,\"end\":11,\"text\":\"Uttarkashi \",\"lab...</td>\n",
       "      <td>Uttarkashi Tunnel Rescue: उत्तरकाशी टनल में फं...</td>\n",
       "    </tr>\n",
       "  </tbody>\n",
       "</table>\n",
       "</div>"
      ],
      "text/plain": [
       "   annotation_id                                                pos  \\\n",
       "0             22  [{\"start\":0,\"end\":8,\"text\":\"राजस्थान\",\"labels\"...   \n",
       "1             23  [{\"start\":0,\"end\":5,\"text\":\"World\",\"labels\":[\"...   \n",
       "2             24  [{\"start\":0,\"end\":11,\"text\":\"Uttarkashi \",\"lab...   \n",
       "\n",
       "                                                text  \n",
       "0  राजस्थान के CM बनने के सवाल पर क्या बोले केंद्...  \n",
       "1  World Cup Final 2023: क्या रोहित-विराट अब वर्ल...  \n",
       "2  Uttarkashi Tunnel Rescue: उत्तरकाशी टनल में फं...  "
      ]
     },
     "execution_count": 33,
     "metadata": {},
     "output_type": "execute_result"
    }
   ],
   "source": [
    "df2_pos.head(3)"
   ]
  },
  {
   "cell_type": "code",
   "execution_count": 34,
   "metadata": {},
   "outputs": [],
   "source": [
    "kappa_arj = []\n",
    "kappa_ven = []\n",
    "\n",
    "for row in range(0, 20):\n",
    "\n",
    "    dict_arj = {}\n",
    "    dict_ven = {}\n",
    "    \n",
    "    text = df2_pos['text'][row]\n",
    "    text_arr = text.split()\n",
    "\n",
    "    data_str_1 = df1_pos['pos'][row]\n",
    "    data_list_1 = json.loads(data_str_1)\n",
    "\n",
    "    for item in data_list_1:\n",
    "        dict_arj[item['text']] = item['labels'][0]\n",
    "\n",
    "    data_str_2 = df2_pos['pos'][row]\n",
    "    data_list_2 = json.loads(data_str_2)\n",
    "\n",
    "    dict_arj = {key.strip(): value for key, value in dict_arj.items()}\n",
    "    dict_ven = {key.strip(): value for key, value in dict_ven.items()}\n",
    "\n",
    "    for item in data_list_2:\n",
    "        dict_ven[item['text']] = item['labels'][0]\n",
    "\n",
    "    for i in text_arr:\n",
    "        kappa_arj.append(dict_arj.get(i, 'X'))  \n",
    "        kappa_ven.append(dict_ven.get(i, 'X'))  "
   ]
  },
  {
   "cell_type": "code",
   "execution_count": 35,
   "metadata": {},
   "outputs": [
    {
     "data": {
      "text/plain": [
       "(350, 350)"
      ]
     },
     "execution_count": 35,
     "metadata": {},
     "output_type": "execute_result"
    }
   ],
   "source": [
    "len(kappa_arj), len(kappa_ven)"
   ]
  },
  {
   "cell_type": "code",
   "execution_count": 36,
   "metadata": {},
   "outputs": [
    {
     "data": {
      "text/plain": [
       "0.44588902428493304"
      ]
     },
     "execution_count": 36,
     "metadata": {},
     "output_type": "execute_result"
    }
   ],
   "source": [
    "cohen_kappa_score(kappa_ven, kappa_arj)"
   ]
  },
  {
   "cell_type": "code",
   "execution_count": null,
   "metadata": {},
   "outputs": [],
   "source": []
  }
 ],
 "metadata": {
  "kernelspec": {
   "display_name": "Python 3",
   "language": "python",
   "name": "python3"
  },
  "language_info": {
   "codemirror_mode": {
    "name": "ipython",
    "version": 3
   },
   "file_extension": ".py",
   "mimetype": "text/x-python",
   "name": "python",
   "nbconvert_exporter": "python",
   "pygments_lexer": "ipython3",
   "version": "3.12.4"
  }
 },
 "nbformat": 4,
 "nbformat_minor": 2
}
