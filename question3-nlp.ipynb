{
 "cells": [
  {
   "cell_type": "code",
   "execution_count": 1,
   "metadata": {},
   "outputs": [],
   "source": [
    "import numpy as np\n",
    "import pandas as pd\n",
    "from sklearn.metrics import cohen_kappa_score"
   ]
  },
  {
   "cell_type": "code",
   "execution_count": 2,
   "metadata": {},
   "outputs": [],
   "source": [
    "df1 = pd.read_csv('NLP-annotations-Arjun.csv')\n",
    "df2 = pd.read_csv('NLP-annotations-Venkat.csv')"
   ]
  },
  {
   "cell_type": "code",
   "execution_count": 3,
   "metadata": {},
   "outputs": [
    {
     "data": {
      "text/html": [
       "<div>\n",
       "<style scoped>\n",
       "    .dataframe tbody tr th:only-of-type {\n",
       "        vertical-align: middle;\n",
       "    }\n",
       "\n",
       "    .dataframe tbody tr th {\n",
       "        vertical-align: top;\n",
       "    }\n",
       "\n",
       "    .dataframe thead th {\n",
       "        text-align: right;\n",
       "    }\n",
       "</style>\n",
       "<table border=\"1\" class=\"dataframe\">\n",
       "  <thead>\n",
       "    <tr style=\"text-align: right;\">\n",
       "      <th></th>\n",
       "      <th>annotation_id</th>\n",
       "      <th>annotator</th>\n",
       "      <th>created_at</th>\n",
       "      <th>id</th>\n",
       "      <th>lead_time</th>\n",
       "      <th>pos</th>\n",
       "      <th>text</th>\n",
       "      <th>updated_at</th>\n",
       "    </tr>\n",
       "  </thead>\n",
       "  <tbody>\n",
       "    <tr>\n",
       "      <th>0</th>\n",
       "      <td>71</td>\n",
       "      <td>1</td>\n",
       "      <td>2025-01-24T14:11:32.689006Z</td>\n",
       "      <td>41</td>\n",
       "      <td>153.808</td>\n",
       "      <td>[{\"start\":0,\"end\":9,\"text\":\"राजस्थान \",\"labels...</td>\n",
       "      <td>राजस्थान के CM बनने के सवाल पर क्या बोले केंद्...</td>\n",
       "      <td>2025-01-24T14:11:32.689006Z</td>\n",
       "    </tr>\n",
       "    <tr>\n",
       "      <th>1</th>\n",
       "      <td>72</td>\n",
       "      <td>1</td>\n",
       "      <td>2025-01-24T14:14:20.335259Z</td>\n",
       "      <td>42</td>\n",
       "      <td>161.749</td>\n",
       "      <td>[{\"start\":0,\"end\":6,\"text\":\"World \",\"labels\":[...</td>\n",
       "      <td>World Cup Final 2023: क्या रोहित-विराट अब वर्ल...</td>\n",
       "      <td>2025-01-24T14:14:20.335259Z</td>\n",
       "    </tr>\n",
       "    <tr>\n",
       "      <th>2</th>\n",
       "      <td>73</td>\n",
       "      <td>1</td>\n",
       "      <td>2025-01-24T14:15:39.424390Z</td>\n",
       "      <td>43</td>\n",
       "      <td>77.107</td>\n",
       "      <td>[{\"start\":11,\"end\":17,\"text\":\"Tunnel\",\"labels\"...</td>\n",
       "      <td>Uttarkashi Tunnel Rescue: उत्तरकाशी टनल में फं...</td>\n",
       "      <td>2025-01-24T14:15:39.424390Z</td>\n",
       "    </tr>\n",
       "  </tbody>\n",
       "</table>\n",
       "</div>"
      ],
      "text/plain": [
       "   annotation_id  annotator                   created_at  id  lead_time  \\\n",
       "0             71          1  2025-01-24T14:11:32.689006Z  41    153.808   \n",
       "1             72          1  2025-01-24T14:14:20.335259Z  42    161.749   \n",
       "2             73          1  2025-01-24T14:15:39.424390Z  43     77.107   \n",
       "\n",
       "                                                 pos  \\\n",
       "0  [{\"start\":0,\"end\":9,\"text\":\"राजस्थान \",\"labels...   \n",
       "1  [{\"start\":0,\"end\":6,\"text\":\"World \",\"labels\":[...   \n",
       "2  [{\"start\":11,\"end\":17,\"text\":\"Tunnel\",\"labels\"...   \n",
       "\n",
       "                                                text  \\\n",
       "0  राजस्थान के CM बनने के सवाल पर क्या बोले केंद्...   \n",
       "1  World Cup Final 2023: क्या रोहित-विराट अब वर्ल...   \n",
       "2  Uttarkashi Tunnel Rescue: उत्तरकाशी टनल में फं...   \n",
       "\n",
       "                    updated_at  \n",
       "0  2025-01-24T14:11:32.689006Z  \n",
       "1  2025-01-24T14:14:20.335259Z  \n",
       "2  2025-01-24T14:15:39.424390Z  "
      ]
     },
     "execution_count": 3,
     "metadata": {},
     "output_type": "execute_result"
    }
   ],
   "source": [
    "df1.head(3)"
   ]
  },
  {
   "cell_type": "code",
   "execution_count": 4,
   "metadata": {},
   "outputs": [
    {
     "data": {
      "text/html": [
       "<div>\n",
       "<style scoped>\n",
       "    .dataframe tbody tr th:only-of-type {\n",
       "        vertical-align: middle;\n",
       "    }\n",
       "\n",
       "    .dataframe tbody tr th {\n",
       "        vertical-align: top;\n",
       "    }\n",
       "\n",
       "    .dataframe thead th {\n",
       "        text-align: right;\n",
       "    }\n",
       "</style>\n",
       "<table border=\"1\" class=\"dataframe\">\n",
       "  <thead>\n",
       "    <tr style=\"text-align: right;\">\n",
       "      <th></th>\n",
       "      <th>annotation_id</th>\n",
       "      <th>annotator</th>\n",
       "      <th>created_at</th>\n",
       "      <th>id</th>\n",
       "      <th>label</th>\n",
       "      <th>lead_time</th>\n",
       "      <th>text</th>\n",
       "      <th>updated_at</th>\n",
       "    </tr>\n",
       "  </thead>\n",
       "  <tbody>\n",
       "    <tr>\n",
       "      <th>0</th>\n",
       "      <td>22</td>\n",
       "      <td>1</td>\n",
       "      <td>2025-01-24T10:49:13.766051Z</td>\n",
       "      <td>14538</td>\n",
       "      <td>[{\"start\":0,\"end\":8,\"text\":\"राजस्थान\",\"labels\"...</td>\n",
       "      <td>395.756</td>\n",
       "      <td>राजस्थान के CM बनने के सवाल पर क्या बोले केंद्...</td>\n",
       "      <td>2025-01-24T10:49:13.766051Z</td>\n",
       "    </tr>\n",
       "    <tr>\n",
       "      <th>1</th>\n",
       "      <td>23</td>\n",
       "      <td>1</td>\n",
       "      <td>2025-01-24T10:55:00.198146Z</td>\n",
       "      <td>14539</td>\n",
       "      <td>[{\"start\":0,\"end\":5,\"text\":\"World\",\"labels\":[\"...</td>\n",
       "      <td>301.777</td>\n",
       "      <td>World Cup Final 2023: क्या रोहित-विराट अब वर्ल...</td>\n",
       "      <td>2025-01-24T10:55:00.198146Z</td>\n",
       "    </tr>\n",
       "    <tr>\n",
       "      <th>2</th>\n",
       "      <td>24</td>\n",
       "      <td>1</td>\n",
       "      <td>2025-01-24T10:57:42.074330Z</td>\n",
       "      <td>14540</td>\n",
       "      <td>[{\"start\":0,\"end\":11,\"text\":\"Uttarkashi \",\"lab...</td>\n",
       "      <td>150.674</td>\n",
       "      <td>Uttarkashi Tunnel Rescue: उत्तरकाशी टनल में फं...</td>\n",
       "      <td>2025-01-24T10:57:42.074330Z</td>\n",
       "    </tr>\n",
       "  </tbody>\n",
       "</table>\n",
       "</div>"
      ],
      "text/plain": [
       "   annotation_id  annotator                   created_at     id  \\\n",
       "0             22          1  2025-01-24T10:49:13.766051Z  14538   \n",
       "1             23          1  2025-01-24T10:55:00.198146Z  14539   \n",
       "2             24          1  2025-01-24T10:57:42.074330Z  14540   \n",
       "\n",
       "                                               label  lead_time  \\\n",
       "0  [{\"start\":0,\"end\":8,\"text\":\"राजस्थान\",\"labels\"...    395.756   \n",
       "1  [{\"start\":0,\"end\":5,\"text\":\"World\",\"labels\":[\"...    301.777   \n",
       "2  [{\"start\":0,\"end\":11,\"text\":\"Uttarkashi \",\"lab...    150.674   \n",
       "\n",
       "                                                text  \\\n",
       "0  राजस्थान के CM बनने के सवाल पर क्या बोले केंद्...   \n",
       "1  World Cup Final 2023: क्या रोहित-विराट अब वर्ल...   \n",
       "2  Uttarkashi Tunnel Rescue: उत्तरकाशी टनल में फं...   \n",
       "\n",
       "                    updated_at  \n",
       "0  2025-01-24T10:49:13.766051Z  \n",
       "1  2025-01-24T10:55:00.198146Z  \n",
       "2  2025-01-24T10:57:42.074330Z  "
      ]
     },
     "execution_count": 4,
     "metadata": {},
     "output_type": "execute_result"
    }
   ],
   "source": [
    "df2.head(3)"
   ]
  },
  {
   "cell_type": "code",
   "execution_count": 6,
   "metadata": {},
   "outputs": [],
   "source": [
    "df2.rename(columns={'label': 'pos'}, inplace=True)"
   ]
  },
  {
   "cell_type": "code",
   "execution_count": 21,
   "metadata": {},
   "outputs": [],
   "source": [
    "df1_pos = df1[['annotation_id', 'pos', 'text']]\n",
    "df2_pos = df2[['annotation_id', 'pos', 'text']]"
   ]
  },
  {
   "cell_type": "code",
   "execution_count": 22,
   "metadata": {},
   "outputs": [
    {
     "data": {
      "text/html": [
       "<div>\n",
       "<style scoped>\n",
       "    .dataframe tbody tr th:only-of-type {\n",
       "        vertical-align: middle;\n",
       "    }\n",
       "\n",
       "    .dataframe tbody tr th {\n",
       "        vertical-align: top;\n",
       "    }\n",
       "\n",
       "    .dataframe thead th {\n",
       "        text-align: right;\n",
       "    }\n",
       "</style>\n",
       "<table border=\"1\" class=\"dataframe\">\n",
       "  <thead>\n",
       "    <tr style=\"text-align: right;\">\n",
       "      <th></th>\n",
       "      <th>annotation_id</th>\n",
       "      <th>pos</th>\n",
       "      <th>text</th>\n",
       "    </tr>\n",
       "  </thead>\n",
       "  <tbody>\n",
       "    <tr>\n",
       "      <th>0</th>\n",
       "      <td>71</td>\n",
       "      <td>[{\"start\":0,\"end\":9,\"text\":\"राजस्थान \",\"labels...</td>\n",
       "      <td>राजस्थान के CM बनने के सवाल पर क्या बोले केंद्...</td>\n",
       "    </tr>\n",
       "    <tr>\n",
       "      <th>1</th>\n",
       "      <td>72</td>\n",
       "      <td>[{\"start\":0,\"end\":6,\"text\":\"World \",\"labels\":[...</td>\n",
       "      <td>World Cup Final 2023: क्या रोहित-विराट अब वर्ल...</td>\n",
       "    </tr>\n",
       "    <tr>\n",
       "      <th>2</th>\n",
       "      <td>73</td>\n",
       "      <td>[{\"start\":11,\"end\":17,\"text\":\"Tunnel\",\"labels\"...</td>\n",
       "      <td>Uttarkashi Tunnel Rescue: उत्तरकाशी टनल में फं...</td>\n",
       "    </tr>\n",
       "  </tbody>\n",
       "</table>\n",
       "</div>"
      ],
      "text/plain": [
       "   annotation_id                                                pos  \\\n",
       "0             71  [{\"start\":0,\"end\":9,\"text\":\"राजस्थान \",\"labels...   \n",
       "1             72  [{\"start\":0,\"end\":6,\"text\":\"World \",\"labels\":[...   \n",
       "2             73  [{\"start\":11,\"end\":17,\"text\":\"Tunnel\",\"labels\"...   \n",
       "\n",
       "                                                text  \n",
       "0  राजस्थान के CM बनने के सवाल पर क्या बोले केंद्...  \n",
       "1  World Cup Final 2023: क्या रोहित-विराट अब वर्ल...  \n",
       "2  Uttarkashi Tunnel Rescue: उत्तरकाशी टनल में फं...  "
      ]
     },
     "execution_count": 22,
     "metadata": {},
     "output_type": "execute_result"
    }
   ],
   "source": [
    "df1_pos.head(3)"
   ]
  },
  {
   "cell_type": "code",
   "execution_count": 23,
   "metadata": {},
   "outputs": [
    {
     "data": {
      "text/html": [
       "<div>\n",
       "<style scoped>\n",
       "    .dataframe tbody tr th:only-of-type {\n",
       "        vertical-align: middle;\n",
       "    }\n",
       "\n",
       "    .dataframe tbody tr th {\n",
       "        vertical-align: top;\n",
       "    }\n",
       "\n",
       "    .dataframe thead th {\n",
       "        text-align: right;\n",
       "    }\n",
       "</style>\n",
       "<table border=\"1\" class=\"dataframe\">\n",
       "  <thead>\n",
       "    <tr style=\"text-align: right;\">\n",
       "      <th></th>\n",
       "      <th>annotation_id</th>\n",
       "      <th>pos</th>\n",
       "      <th>text</th>\n",
       "    </tr>\n",
       "  </thead>\n",
       "  <tbody>\n",
       "    <tr>\n",
       "      <th>0</th>\n",
       "      <td>22</td>\n",
       "      <td>[{\"start\":0,\"end\":8,\"text\":\"राजस्थान\",\"labels\"...</td>\n",
       "      <td>राजस्थान के CM बनने के सवाल पर क्या बोले केंद्...</td>\n",
       "    </tr>\n",
       "    <tr>\n",
       "      <th>1</th>\n",
       "      <td>23</td>\n",
       "      <td>[{\"start\":0,\"end\":5,\"text\":\"World\",\"labels\":[\"...</td>\n",
       "      <td>World Cup Final 2023: क्या रोहित-विराट अब वर्ल...</td>\n",
       "    </tr>\n",
       "    <tr>\n",
       "      <th>2</th>\n",
       "      <td>24</td>\n",
       "      <td>[{\"start\":0,\"end\":11,\"text\":\"Uttarkashi \",\"lab...</td>\n",
       "      <td>Uttarkashi Tunnel Rescue: उत्तरकाशी टनल में फं...</td>\n",
       "    </tr>\n",
       "  </tbody>\n",
       "</table>\n",
       "</div>"
      ],
      "text/plain": [
       "   annotation_id                                                pos  \\\n",
       "0             22  [{\"start\":0,\"end\":8,\"text\":\"राजस्थान\",\"labels\"...   \n",
       "1             23  [{\"start\":0,\"end\":5,\"text\":\"World\",\"labels\":[\"...   \n",
       "2             24  [{\"start\":0,\"end\":11,\"text\":\"Uttarkashi \",\"lab...   \n",
       "\n",
       "                                                text  \n",
       "0  राजस्थान के CM बनने के सवाल पर क्या बोले केंद्...  \n",
       "1  World Cup Final 2023: क्या रोहित-विराट अब वर्ल...  \n",
       "2  Uttarkashi Tunnel Rescue: उत्तरकाशी टनल में फं...  "
      ]
     },
     "execution_count": 23,
     "metadata": {},
     "output_type": "execute_result"
    }
   ],
   "source": [
    "df2_pos.head(3)"
   ]
  },
  {
   "cell_type": "code",
   "execution_count": 92,
   "metadata": {},
   "outputs": [
    {
     "data": {
      "text/plain": [
       "'[{\"start\":0,\"end\":6,\"text\":\"World \",\"labels\":[\"PROPN\"]},{\"start\":6,\"end\":10,\"text\":\"Cup \",\"labels\":[\"PROPN\"]},{\"start\":10,\"end\":16,\"text\":\"Final \",\"labels\":[\"PROPN\"]},{\"start\":16,\"end\":20,\"text\":\"2023\",\"labels\":[\"NUM\"]},{\"start\":20,\"end\":22,\"text\":\": \",\"labels\":[\"X\"]},{\"start\":22,\"end\":26,\"text\":\"मां \",\"labels\":[\"NOUN\"]},{\"start\":26,\"end\":29,\"text\":\"ने \",\"labels\":[\"ADP\"]},{\"start\":29,\"end\":33,\"text\":\"शमी \",\"labels\":[\"PROPN\"]},{\"start\":33,\"end\":36,\"text\":\"से \",\"labels\":[\"ADP\"]},{\"start\":36,\"end\":40,\"text\":\"कहा \",\"labels\":[\"VERB\"]},{\"start\":40,\"end\":45,\"text\":\"बेटा \",\"labels\":[\"NOUN\"]},{\"start\":45,\"end\":51,\"text\":\"world \",\"labels\":[\"NOUN\"]},{\"start\":51,\"end\":54,\"text\":\"cup\",\"labels\":[\"NOUN\"]},{\"start\":55,\"end\":60,\"text\":\"चाहिए\",\"labels\":[\"VERB\"]},{\"start\":60,\"end\":61,\"text\":\",\",\"labels\":[\"X\"]},{\"start\":62,\"end\":68,\"text\":\"finals\",\"labels\":[\"NOUN\"]},{\"start\":69,\"end\":72,\"text\":\"से \",\"labels\":[\"ADP\"]},{\"start\":72,\"end\":77,\"text\":\"पहले \",\"labels\":[\"ADV\"]},{\"start\":77,\"end\":81,\"text\":\"शमी \",\"labels\":[\"PROPN\"]},{\"start\":81,\"end\":84,\"text\":\"की \",\"labels\":[\"ADP\"]},{\"start\":93,\"end\":96,\"text\":\"बात\",\"labels\":[\"VERB\"]},{\"start\":84,\"end\":90,\"text\":\"अम्मी \",\"labels\":[\"NOUN\"]},{\"start\":90,\"end\":93,\"text\":\"से \",\"labels\":[\"ADP\"]}]'"
      ]
     },
     "execution_count": 92,
     "metadata": {},
     "output_type": "execute_result"
    }
   ],
   "source": [
    "df1_pos['pos'][4]"
   ]
  },
  {
   "cell_type": "code",
   "execution_count": 93,
   "metadata": {},
   "outputs": [
    {
     "data": {
      "text/plain": [
       "'[{\"start\":0,\"end\":6,\"text\":\"World \",\"labels\":[\"PROPN\"]},{\"start\":6,\"end\":10,\"text\":\"Cup \",\"labels\":[\"PROPN\"]},{\"start\":10,\"end\":16,\"text\":\"Final \",\"labels\":[\"PROPN\"]},{\"start\":16,\"end\":20,\"text\":\"2023\",\"labels\":[\"NUM\"]},{\"start\":20,\"end\":21,\"text\":\":\",\"labels\":[\"X\"]},{\"start\":22,\"end\":26,\"text\":\"मां \",\"labels\":[\"NOUN\"]},{\"start\":26,\"end\":28,\"text\":\"ने\",\"labels\":[\"ADP\"]},{\"start\":29,\"end\":33,\"text\":\"शमी \",\"labels\":[\"PROPN\"]},{\"start\":33,\"end\":35,\"text\":\"से\",\"labels\":[\"ADP\"]},{\"start\":36,\"end\":39,\"text\":\"कहा\",\"labels\":[\"VERB\"]},{\"start\":40,\"end\":44,\"text\":\"बेटा\",\"labels\":[\"NOUN\"]},{\"start\":45,\"end\":51,\"text\":\"world \",\"labels\":[\"PROPN\"]},{\"start\":51,\"end\":55,\"text\":\"cup \",\"labels\":[\"PROPN\"]},{\"start\":55,\"end\":60,\"text\":\"चाहिए\",\"labels\":[\"VERB\"]},{\"start\":60,\"end\":61,\"text\":\",\",\"labels\":[\"X\"]},{\"start\":62,\"end\":69,\"text\":\"finals \",\"labels\":[\"NOUN\"]},{\"start\":69,\"end\":71,\"text\":\"से\",\"labels\":[\"ADP\"]},{\"start\":72,\"end\":76,\"text\":\"पहले\",\"labels\":[\"ADV\"]},{\"start\":77,\"end\":80,\"text\":\"शमी\",\"labels\":[\"PROPN\"]},{\"start\":81,\"end\":83,\"text\":\"की\",\"labels\":[\"ADP\"]},{\"start\":84,\"end\":90,\"text\":\"अम्मी \",\"labels\":[\"PROPN\"]},{\"start\":90,\"end\":92,\"text\":\"से\",\"labels\":[\"ADP\"]},{\"start\":93,\"end\":96,\"text\":\"बात\",\"labels\":[\"NOUN\"]}]'"
      ]
     },
     "execution_count": 93,
     "metadata": {},
     "output_type": "execute_result"
    }
   ],
   "source": [
    "df2_pos['pos'][4]"
   ]
  },
  {
   "cell_type": "code",
   "execution_count": 94,
   "metadata": {},
   "outputs": [
    {
     "data": {
      "text/plain": [
       "['World',\n",
       " 'Cup',\n",
       " 'Final',\n",
       " '2023:',\n",
       " 'मां',\n",
       " 'ने',\n",
       " 'शमी',\n",
       " 'से',\n",
       " 'कहा',\n",
       " 'बेटा',\n",
       " 'world',\n",
       " 'cup',\n",
       " 'चाहिए,',\n",
       " 'finals',\n",
       " 'से',\n",
       " 'पहले',\n",
       " 'शमी',\n",
       " 'की',\n",
       " 'अम्मी',\n",
       " 'से',\n",
       " 'बात']"
      ]
     },
     "execution_count": 94,
     "metadata": {},
     "output_type": "execute_result"
    }
   ],
   "source": [
    "g = df1_pos['text'][4]\n",
    "g.split()"
   ]
  },
  {
   "cell_type": "code",
   "execution_count": 95,
   "metadata": {},
   "outputs": [],
   "source": [
    "dict_arj = {}\n",
    "dict_ven = {}"
   ]
  },
  {
   "cell_type": "code",
   "execution_count": 97,
   "metadata": {},
   "outputs": [],
   "source": [
    "import json\n",
    "\n",
    "data_str = df1_pos['pos'][4]\n",
    "data_list = json.loads(data_str)\n",
    "\n",
    "for item in data_list:\n",
    "    dict_arj[item['text']] = item['labels'][0]\n"
   ]
  },
  {
   "cell_type": "code",
   "execution_count": 98,
   "metadata": {},
   "outputs": [],
   "source": [
    "import json\n",
    "\n",
    "data_str = df2_pos['pos'][4]\n",
    "data_list = json.loads(data_str)\n",
    "\n",
    "for item in data_list:\n",
    "    dict_ven[item['text']] = item['labels'][0]"
   ]
  },
  {
   "cell_type": "code",
   "execution_count": 99,
   "metadata": {},
   "outputs": [
    {
     "data": {
      "text/plain": [
       "{'World ': 'PROPN',\n",
       " 'Cup ': 'PROPN',\n",
       " 'Final ': 'PROPN',\n",
       " '2023': 'NUM',\n",
       " ': ': 'X',\n",
       " 'मां ': 'NOUN',\n",
       " 'ने ': 'ADP',\n",
       " 'शमी ': 'PROPN',\n",
       " 'से ': 'ADP',\n",
       " 'कहा ': 'VERB',\n",
       " 'बेटा ': 'NOUN',\n",
       " 'world ': 'NOUN',\n",
       " 'cup': 'NOUN',\n",
       " 'चाहिए': 'VERB',\n",
       " ',': 'X',\n",
       " 'finals': 'NOUN',\n",
       " 'पहले ': 'ADV',\n",
       " 'की ': 'ADP',\n",
       " 'बात': 'VERB',\n",
       " 'अम्मी ': 'NOUN'}"
      ]
     },
     "execution_count": 99,
     "metadata": {},
     "output_type": "execute_result"
    }
   ],
   "source": [
    "dict_arj"
   ]
  },
  {
   "cell_type": "code",
   "execution_count": 100,
   "metadata": {},
   "outputs": [
    {
     "data": {
      "text/plain": [
       "{'World ': 'PROPN',\n",
       " 'Cup ': 'PROPN',\n",
       " 'Final ': 'PROPN',\n",
       " '2023': 'NUM',\n",
       " ':': 'X',\n",
       " 'मां ': 'NOUN',\n",
       " 'ने': 'ADP',\n",
       " 'शमी ': 'PROPN',\n",
       " 'से': 'ADP',\n",
       " 'कहा': 'VERB',\n",
       " 'बेटा': 'NOUN',\n",
       " 'world ': 'PROPN',\n",
       " 'cup ': 'PROPN',\n",
       " 'चाहिए': 'VERB',\n",
       " ',': 'X',\n",
       " 'finals ': 'NOUN',\n",
       " 'पहले': 'ADV',\n",
       " 'शमी': 'PROPN',\n",
       " 'की': 'ADP',\n",
       " 'अम्मी ': 'PROPN',\n",
       " 'बात': 'NOUN'}"
      ]
     },
     "execution_count": 100,
     "metadata": {},
     "output_type": "execute_result"
    }
   ],
   "source": [
    "dict_ven"
   ]
  },
  {
   "cell_type": "code",
   "execution_count": 101,
   "metadata": {},
   "outputs": [],
   "source": [
    "dict_arj = {key.strip(): value for key, value in dict_arj.items()}\n",
    "dict_ven = {key.strip(): value for key, value in dict_ven.items()}"
   ]
  },
  {
   "cell_type": "code",
   "execution_count": 109,
   "metadata": {},
   "outputs": [],
   "source": [
    "g = df1_pos['text'][4]\n",
    "text_arr = g.split()"
   ]
  },
  {
   "cell_type": "code",
   "execution_count": 110,
   "metadata": {},
   "outputs": [
    {
     "data": {
      "text/plain": [
       "['World',\n",
       " 'Cup',\n",
       " 'Final',\n",
       " '2023:',\n",
       " 'मां',\n",
       " 'ने',\n",
       " 'शमी',\n",
       " 'से',\n",
       " 'कहा',\n",
       " 'बेटा',\n",
       " 'world',\n",
       " 'cup',\n",
       " 'चाहिए,',\n",
       " 'finals',\n",
       " 'से',\n",
       " 'पहले',\n",
       " 'शमी',\n",
       " 'की',\n",
       " 'अम्मी',\n",
       " 'से',\n",
       " 'बात']"
      ]
     },
     "execution_count": 110,
     "metadata": {},
     "output_type": "execute_result"
    }
   ],
   "source": [
    "text_arr"
   ]
  },
  {
   "cell_type": "code",
   "execution_count": 117,
   "metadata": {},
   "outputs": [
    {
     "name": "stdout",
     "output_type": "stream",
     "text": [
      "World\n",
      "Cup\n",
      "Final\n",
      "2023:\n",
      "मां\n",
      "ने\n",
      "शमी\n",
      "से\n",
      "कहा\n",
      "बेटा\n",
      "world\n",
      "cup\n",
      "चाहिए,\n",
      "finals\n",
      "से\n",
      "पहले\n",
      "शमी\n",
      "की\n",
      "अम्मी\n",
      "से\n",
      "बात\n"
     ]
    }
   ],
   "source": [
    "kappa_arj = []\n",
    "kappa_ven = []\n",
    "\n",
    "for i in text_arr:\n",
    "    print(i)\n",
    "    kappa_arj.append(dict_arj.get(i, 'X'))  \n",
    "    kappa_ven.append(dict_ven.get(i, 'X'))  "
   ]
  },
  {
   "cell_type": "code",
   "execution_count": 118,
   "metadata": {},
   "outputs": [
    {
     "data": {
      "text/plain": [
       "['PROPN',\n",
       " 'PROPN',\n",
       " 'PROPN',\n",
       " 'X',\n",
       " 'NOUN',\n",
       " 'ADP',\n",
       " 'PROPN',\n",
       " 'ADP',\n",
       " 'VERB',\n",
       " 'NOUN',\n",
       " 'NOUN',\n",
       " 'NOUN',\n",
       " 'X',\n",
       " 'NOUN',\n",
       " 'ADP',\n",
       " 'ADV',\n",
       " 'PROPN',\n",
       " 'ADP',\n",
       " 'NOUN',\n",
       " 'ADP',\n",
       " 'VERB']"
      ]
     },
     "execution_count": 118,
     "metadata": {},
     "output_type": "execute_result"
    }
   ],
   "source": [
    "kappa_arj"
   ]
  },
  {
   "cell_type": "code",
   "execution_count": 119,
   "metadata": {},
   "outputs": [
    {
     "data": {
      "text/plain": [
       "['PROPN',\n",
       " 'PROPN',\n",
       " 'PROPN',\n",
       " 'X',\n",
       " 'NOUN',\n",
       " 'ADP',\n",
       " 'PROPN',\n",
       " 'ADP',\n",
       " 'VERB',\n",
       " 'NOUN',\n",
       " 'PROPN',\n",
       " 'PROPN',\n",
       " 'X',\n",
       " 'NOUN',\n",
       " 'ADP',\n",
       " 'ADV',\n",
       " 'PROPN',\n",
       " 'ADP',\n",
       " 'PROPN',\n",
       " 'ADP',\n",
       " 'NOUN']"
      ]
     },
     "execution_count": 119,
     "metadata": {},
     "output_type": "execute_result"
    }
   ],
   "source": [
    "kappa_ven"
   ]
  },
  {
   "cell_type": "code",
   "execution_count": 120,
   "metadata": {},
   "outputs": [
    {
     "name": "stdout",
     "output_type": "stream",
     "text": [
      "Keys in dict_arj: dict_keys(['World', 'Cup', 'Final', '2023', ':', 'मां', 'ने', 'शमी', 'से', 'कहा', 'बेटा', 'world', 'cup', 'चाहिए', ',', 'finals', 'पहले', 'की', 'बात', 'अम्मी'])\n",
      "Keys in dict_ven: dict_keys(['World', 'Cup', 'Final', '2023', ':', 'मां', 'ने', 'शमी', 'से', 'कहा', 'बेटा', 'world', 'cup', 'चाहिए', ',', 'finals', 'पहले', 'की', 'अम्मी', 'बात'])\n"
     ]
    }
   ],
   "source": [
    "print(\"Keys in dict_arj:\", dict_arj.keys())\n",
    "print(\"Keys in dict_ven:\", dict_ven.keys())"
   ]
  },
  {
   "cell_type": "code",
   "execution_count": 121,
   "metadata": {},
   "outputs": [
    {
     "data": {
      "text/plain": [
       "20"
      ]
     },
     "execution_count": 121,
     "metadata": {},
     "output_type": "execute_result"
    }
   ],
   "source": [
    "len(dict_ven)"
   ]
  },
  {
   "cell_type": "code",
   "execution_count": 122,
   "metadata": {},
   "outputs": [
    {
     "data": {
      "text/plain": [
       "0.7565217391304347"
      ]
     },
     "execution_count": 122,
     "metadata": {},
     "output_type": "execute_result"
    }
   ],
   "source": [
    "cohen_kappa_score(kappa_arj, kappa_ven)"
   ]
  },
  {
   "cell_type": "code",
   "execution_count": 123,
   "metadata": {},
   "outputs": [],
   "source": [
    "import json"
   ]
  },
  {
   "cell_type": "code",
   "execution_count": 141,
   "metadata": {},
   "outputs": [],
   "source": [
    "kappa_arj = []\n",
    "kappa_ven = []\n",
    "\n",
    "for row in range(0, 20):\n",
    "\n",
    "    dict_arj = {}\n",
    "    dict_ven = {}\n",
    "    \n",
    "    text = df2_pos['text'][row]\n",
    "    text_arr = text.split()\n",
    "\n",
    "    data_str_1 = df1_pos['pos'][row]\n",
    "    data_list_1 = json.loads(data_str_1)\n",
    "\n",
    "    for item in data_list_1:\n",
    "        dict_arj[item['text']] = item['labels'][0]\n",
    "\n",
    "    data_str_2 = df2_pos['pos'][row]\n",
    "    data_list_2 = json.loads(data_str_2)\n",
    "\n",
    "    dict_arj = {key.strip(): value for key, value in dict_arj.items()}\n",
    "    dict_ven = {key.strip(): value for key, value in dict_ven.items()}\n",
    "\n",
    "    for item in data_list_2:\n",
    "        dict_ven[item['text']] = item['labels'][0]\n",
    "\n",
    "    for i in text_arr:\n",
    "        kappa_arj.append(dict_arj.get(i, 'X'))  \n",
    "        kappa_ven.append(dict_ven.get(i, 'X'))  "
   ]
  },
  {
   "cell_type": "code",
   "execution_count": 142,
   "metadata": {},
   "outputs": [
    {
     "data": {
      "text/plain": [
       "(350, 350)"
      ]
     },
     "execution_count": 142,
     "metadata": {},
     "output_type": "execute_result"
    }
   ],
   "source": [
    "len(kappa_arj), len(kappa_ven)"
   ]
  },
  {
   "cell_type": "code",
   "execution_count": 144,
   "metadata": {},
   "outputs": [
    {
     "data": {
      "text/plain": [
       "0.44588902428493304"
      ]
     },
     "execution_count": 144,
     "metadata": {},
     "output_type": "execute_result"
    }
   ],
   "source": [
    "cohen_kappa_score(kappa_ven, kappa_arj)"
   ]
  },
  {
   "cell_type": "code",
   "execution_count": null,
   "metadata": {},
   "outputs": [],
   "source": []
  }
 ],
 "metadata": {
  "kernelspec": {
   "display_name": "Python 3",
   "language": "python",
   "name": "python3"
  },
  "language_info": {
   "codemirror_mode": {
    "name": "ipython",
    "version": 3
   },
   "file_extension": ".py",
   "mimetype": "text/x-python",
   "name": "python",
   "nbconvert_exporter": "python",
   "pygments_lexer": "ipython3",
   "version": "3.12.4"
  }
 },
 "nbformat": 4,
 "nbformat_minor": 2
}
