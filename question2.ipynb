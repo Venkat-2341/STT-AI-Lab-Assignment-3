{
 "cells": [
  {
   "cell_type": "code",
   "execution_count": 8,
   "metadata": {},
   "outputs": [],
   "source": [
    "import pandas as pd\n",
    "import numpy as np\n",
    "from sklearn.metrics import cohen_kappa_score\n"
   ]
  },
  {
   "cell_type": "code",
   "execution_count": 21,
   "metadata": {},
   "outputs": [
    {
     "name": "stdout",
     "output_type": "stream",
     "text": [
      "NLP Arjun columns: Index([0, 1, 2, 3, 4, 5, 6, 7], dtype='int64')\n",
      "NLP Venkat columns: Index([0, 1, 2, 3, 4, 5, 6, 7], dtype='int64')\n",
      "CV Arjun columns: Index(['annotation_id', 'annotator', 'created_at', 'id', 'image', 'label',\n",
      "       'lead_time', 'updated_at'],\n",
      "      dtype='object')\n",
      "CV Venkat columns: Index(['annotation_id', 'annotator', 'created_at', 'id', 'image', 'label',\n",
      "       'lead_time', 'updated_at'],\n",
      "      dtype='object')\n",
      "CV 3rd member columns: Index(['annotation_id', 'annotator', 'created_at', 'id', 'image', 'label',\n",
      "       'lead_time', 'updated_at'],\n",
      "      dtype='object')\n"
     ]
    }
   ],
   "source": [
    "nlp_annotator1 = pd.read_csv('arjunnlp.csv', header=None)\n",
    "nlp_annotator2 = pd.read_csv('venkatnlp.csv',header=None)\n",
    "\n",
    "cv_annotator1 = pd.read_csv('CV-annotations-Arjun.csv')\n",
    "cv_annotator2 = pd.read_csv('CV-annotations-Venkat.csv')\n",
    "cv_annotator3 = pd.read_csv('CV-annotations-3rd-member.csv')\n",
    "print(\"NLP Arjun columns:\", nlp_annotator1.columns)\n",
    "print(\"NLP Venkat columns:\", nlp_annotator2.columns)\n",
    "print(\"CV Arjun columns:\", cv_annotator1.columns)\n",
    "print(\"CV Venkat columns:\", cv_annotator2.columns)\n",
    "print(\"CV 3rd member columns:\", cv_annotator3.columns)"
   ]
  },
  {
   "cell_type": "code",
   "execution_count": 11,
   "metadata": {},
   "outputs": [],
   "source": [
    "\n",
    "\n",
    "def cohen_kappa_for_nlp(annotator1, annotator2):\n",
    " \n",
    "    \n",
    "    kappa = cohen_kappa_score(annotator1, annotator2)\n",
    "    return kappa"
   ]
  },
  {
   "cell_type": "code",
   "execution_count": 22,
   "metadata": {},
   "outputs": [
    {
     "name": "stdout",
     "output_type": "stream",
     "text": [
      "Cohen's Kappa for NLP Task: 1.0\n"
     ]
    }
   ],
   "source": [
    "nlp_kappa = cohen_kappa_for_nlp(nlp_annotator1[0], nlp_annotator2[0])\n",
    "print(f\"Cohen's Kappa for NLP Task: {nlp_kappa}\")"
   ]
  }
 ],
 "metadata": {
  "kernelspec": {
   "display_name": "env",
   "language": "python",
   "name": "python3"
  },
  "language_info": {
   "codemirror_mode": {
    "name": "ipython",
    "version": 3
   },
   "file_extension": ".py",
   "mimetype": "text/x-python",
   "name": "python",
   "nbconvert_exporter": "python",
   "pygments_lexer": "ipython3",
   "version": "3.12.2"
  }
 },
 "nbformat": 4,
 "nbformat_minor": 2
}
